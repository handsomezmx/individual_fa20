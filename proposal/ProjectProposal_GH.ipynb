{
 "cells": [
  {
   "cell_type": "markdown",
   "metadata": {},
   "source": [
    "# COGS 108 - Project Proposal"
   ]
  },
  {
   "cell_type": "markdown",
   "metadata": {},
   "source": [
    "# Names & GitHub ID\n",
    "\n",
    "- Name: Mingxuan Zhao\n",
    "- GitHub Username: handsomezmx"
   ]
  },
  {
   "cell_type": "markdown",
   "metadata": {},
   "source": [
    "# Research Question"
   ]
  },
  {
   "attachments": {},
   "cell_type": "markdown",
   "metadata": {},
   "source": [
    "  What is the relationship between air quality of the park and rating of the park on google maps, we will focus on the San Diego region.\n",
    "\n"
   ]
  },
  {
   "cell_type": "markdown",
   "metadata": {},
   "source": [
    "## Background and Prior Work"
   ]
  },
  {
   "cell_type": "markdown",
   "metadata": {},
   "source": [
    "  “Air quality is a measure of how clean or polluted the air is. Monitoring air quality is important because polluted air can be bad for our health—and the health of the environment.\n",
    "    \n",
    "  Air quality is measured with the Air Quality Index, or AQI. The AQI works sort of like a thermometer that runs from 0 to 500 degrees. However, instead of showing changes in the temperature, the AQI is a way of showing changes in the amount of pollution in the air.”(1)\n",
    "\n",
    "  To find out whether air quality can directly reflect the how good a park is, I used the rating of different parks in San Diego on the google maps to quantify how good a park is. And the following webpage provides the AQI of different region in SanDiego(2)\n",
    "\n",
    "\n",
    "References :\n",
    "- 1) https://scijinks.gov/air-quality/#:~:text=Air%20quality%20is%20measured%20with,of%20pollution%20in%20the%20air.&text=Air%20quality%20is%20a%20measure,or%20polluted%20the%20air%20is.\n",
    "- 2) https://aqicn.org/map/san-diego"
   ]
  },
  {
   "cell_type": "markdown",
   "metadata": {},
   "source": [
    "# Hypothesis\n"
   ]
  },
  {
   "attachments": {},
   "cell_type": "markdown",
   "metadata": {},
   "source": [
    "I hypothesize that the higher rating of a park on google maps would correspond to a better air quality of this park because I think the higher rating could generally reflect environment of the park. Air quality is one of the most important factors when assessing the environment of a particular park so I assume that the park with high ratings on google maps tend to have a better environment. In another word, better air quality."
   ]
  },
  {
   "cell_type": "markdown",
   "metadata": {},
   "source": [
    "# Data"
   ]
  },
  {
   "attachments": {},
   "cell_type": "markdown",
   "metadata": {},
   "source": [
    "  the ideal data for the air quality should include the AQI and the AQI should be the record of different region of San Diego so that I can categorize the parks based on their locations and assign the corresponding AQI to it.\n",
    "\n",
    "  The Google maps’ data should include the rating out of 5 and the location of the park, and i will include all the ratings for each park in the google maps since I think the more observations I used, the less potential bias I will get.\n",
    "\n"
   ]
  },
  {
   "cell_type": "markdown",
   "metadata": {},
   "source": [
    "# Ethics & Privacy"
   ]
  },
  {
   "attachments": {},
   "cell_type": "markdown",
   "metadata": {},
   "source": [
    "  When analyzing the google maps’ data, I need to be careful about the personal information of the people who give the rating. I need to remove the name of these people and any personal information that may disclose their privacy.\n",
    "\n",
    "  When using the data from the internet, I need to pay attention to the availability of the source I used. Does the writer allow people to use his/her data for research purpose. \n",
    "\n",
    "  Another thing I need to consider is that the potential bias of the data I used. The ratings of the parks on the google maps are given by visitors. visitors’ opinions to a particular park are subjective, but the air quality is objective. So it is possible that different people may hold different opinion to the same park and if this situation happens, the result derived from the data may be meaningless to indicate the air quality of the park.\n"
   ]
  },
  {
   "cell_type": "code",
   "execution_count": null,
   "metadata": {},
   "outputs": [],
   "source": []
  }
 ],
 "metadata": {
  "kernelspec": {
   "display_name": "Python 3",
   "language": "python",
   "name": "python3"
  },
  "language_info": {
   "codemirror_mode": {
    "name": "ipython",
    "version": 3
   },
   "file_extension": ".py",
   "mimetype": "text/x-python",
   "name": "python",
   "nbconvert_exporter": "python",
   "pygments_lexer": "ipython3",
   "version": "3.7.6"
  }
 },
 "nbformat": 4,
 "nbformat_minor": 2
}
