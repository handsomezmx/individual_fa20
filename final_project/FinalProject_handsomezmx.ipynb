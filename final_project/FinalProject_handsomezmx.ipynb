{
 "cells": [
  {
   "cell_type": "markdown",
   "metadata": {},
   "source": [
    "# COGS 108 - Final Project "
   ]
  },
  {
   "cell_type": "markdown",
   "metadata": {},
   "source": [
    "# Overview"
   ]
  },
  {
   "cell_type": "markdown",
   "metadata": {},
   "source": [
    "*The government of each city needs to spend lots of time making the plan to decide where should they build the new parks each year. So I wonder whether I can use my knowledge in data science to give them some help by providing reasonable suggestion based on the data we have. My project aims to find out the relationship between the population density and the distribution of the parks. By making the distribution plot based on latitude and longtitude, scatter plot between the review counts and latitude(longtitude), I found that there is a correspondence between the area with high population density and area with more parks which proves that parks tend to gather around the area with high population density (eg.downtown area).*"
   ]
  },
  {
   "cell_type": "markdown",
   "metadata": {},
   "source": [
    "# Name & GitHub\n",
    "\n",
    "- Name: Mingxuan Zhao\n",
    "- GitHub Username: handsomezmx\n",
    "- PID: A15432337"
   ]
  },
  {
   "cell_type": "markdown",
   "metadata": {},
   "source": [
    "# Research Question"
   ]
  },
  {
   "cell_type": "markdown",
   "metadata": {},
   "source": [
    "*Does the population density inside a city have influence on the distribution of the parks?*"
   ]
  },
  {
   "cell_type": "markdown",
   "metadata": {},
   "source": [
    "## Background and Prior Work"
   ]
  },
  {
   "cell_type": "markdown",
   "metadata": {},
   "source": [
    "*In order to answer my research question, I first need to solve one important question, that is where is the area in San Diego that has more population. Since we know that the population in San Diego does not distribute evenly over the whole city. There must be some places that have more population, to be more specific, have higher population density than other places. My first reaction to this problem is that the downtown of the city would have more population. In order to prove my instinct is correct, I need to to find concrete data to support. According to the map from \"Map of Population by Neighborhood in San Diego\"[1], I found that it is true that population density for the downtown area is clearly higher. So next I am gonna find out the distribution of the parks in San Diego and see whether there are more parks around the Downtown area. For comparison purpose, I find out the exact range of the latitude and longtitude of the downtown area on google map[2]. From the google maps, the latitude of downtown San Diego is between 32.7 to 32.73 and the longtitude is between -117.14 to -117.17. As a result, if the distribution plots of the locations of the parks show that latitude and longtitude of the area have more parks correspond to the downtown's latitude and longtitude, then my research question could be answered in some extent.* \n",
    "\n",
    "References (include links):\n",
    "- 1)https://statisticalatlas.com/place/California/San-Diego/Population\n",
    "- 2)https://www.google.com/maps/place/Downtown+San+Diego,+San+Diego,+CA,+USA/@32.7482084,-117.1953676,12.29z/data=!4m5!3m4!1s0x80d954a96c0fb307:0xa5419af040986a6e!8m2!3d32.7167272!4d-117.1661194"
   ]
  },
  {
   "cell_type": "markdown",
   "metadata": {},
   "source": [
    "# Hypothesis\n"
   ]
  },
  {
   "cell_type": "markdown",
   "metadata": {},
   "source": [
    "*My hypothesis is that parks in San Diego tend to concentrate around downtown area which have higher population density.*"
   ]
  },
  {
   "cell_type": "markdown",
   "metadata": {},
   "source": [
    "# Dataset(s)"
   ]
  },
  {
   "cell_type": "markdown",
   "metadata": {},
   "source": [
    "*I used the San Diego Parks Yelp data in my project. It contains the information of parks in San Diego on Yelp including the rating of the parks the review counts and the sepecific location(latitude and longitude) and so on. The data set has 833 rows and 10 columns but I'm not gonna use all of them in my project.*\n",
    "\n",
    "(Copy this information for each dataset)\n",
    "- Dataset Name: yelp_SD_parks.csv\n",
    "- Link to the dataset: https://www.yelp.com/developers/documentation/v3/business_reviews\n",
    "- Number of observations: 833 rows, 10 columns\n",
    "\n"
   ]
  },
  {
   "cell_type": "markdown",
   "metadata": {},
   "source": [
    "# Setup"
   ]
  },
  {
   "cell_type": "code",
   "execution_count": 2,
   "metadata": {},
   "outputs": [],
   "source": [
    "## YOUR CODE HERE\n",
    "import numpy as np\n",
    "import pandas as pd\n",
    "import seaborn as sns\n",
    "import matplotlib.pyplot as plt"
   ]
  },
  {
   "cell_type": "markdown",
   "metadata": {},
   "source": [
    "# Data Cleaning"
   ]
  },
  {
   "cell_type": "markdown",
   "metadata": {},
   "source": [
    "Describe your data cleaning steps here."
   ]
  },
  {
   "cell_type": "code",
   "execution_count": 10,
   "metadata": {},
   "outputs": [
    {
     "data": {
      "text/html": [
       "<div>\n",
       "<style scoped>\n",
       "    .dataframe tbody tr th:only-of-type {\n",
       "        vertical-align: middle;\n",
       "    }\n",
       "\n",
       "    .dataframe tbody tr th {\n",
       "        vertical-align: top;\n",
       "    }\n",
       "\n",
       "    .dataframe thead th {\n",
       "        text-align: right;\n",
       "    }\n",
       "</style>\n",
       "<table border=\"1\" class=\"dataframe\">\n",
       "  <thead>\n",
       "    <tr style=\"text-align: right;\">\n",
       "      <th></th>\n",
       "      <th>name</th>\n",
       "      <th>address</th>\n",
       "      <th>phone</th>\n",
       "      <th>id</th>\n",
       "      <th>url</th>\n",
       "      <th>rating</th>\n",
       "      <th>review_count</th>\n",
       "      <th>longitude</th>\n",
       "      <th>latitude</th>\n",
       "      <th>is_closed</th>\n",
       "    </tr>\n",
       "  </thead>\n",
       "  <tbody>\n",
       "    <tr>\n",
       "      <th>0</th>\n",
       "      <td>Balboa Park</td>\n",
       "      <td>1549 El Prado San Diego, CA 92101</td>\n",
       "      <td>1.619239e+10</td>\n",
       "      <td>9M_FW_-Ipx93I36w-_ykBg</td>\n",
       "      <td>https://www.yelp.com/biz/balboa-park-san-diego...</td>\n",
       "      <td>5.0</td>\n",
       "      <td>2105</td>\n",
       "      <td>-117.153150</td>\n",
       "      <td>32.734502</td>\n",
       "      <td>False</td>\n",
       "    </tr>\n",
       "    <tr>\n",
       "      <th>1</th>\n",
       "      <td>Civita Park</td>\n",
       "      <td>7960 Civita Blvd San Diego, CA 92108</td>\n",
       "      <td>NaN</td>\n",
       "      <td>3AEHjqNrTmggA6G9VdhQfg</td>\n",
       "      <td>https://www.yelp.com/biz/civita-park-san-diego...</td>\n",
       "      <td>4.5</td>\n",
       "      <td>46</td>\n",
       "      <td>-117.147278</td>\n",
       "      <td>32.778315</td>\n",
       "      <td>False</td>\n",
       "    </tr>\n",
       "    <tr>\n",
       "      <th>2</th>\n",
       "      <td>Waterfront Park</td>\n",
       "      <td>1600 Pacific Hwy San Diego, CA 92101</td>\n",
       "      <td>1.619233e+10</td>\n",
       "      <td>3unbJeYrn1RmInZGmjp80g</td>\n",
       "      <td>https://www.yelp.com/biz/waterfront-park-san-d...</td>\n",
       "      <td>4.5</td>\n",
       "      <td>242</td>\n",
       "      <td>-117.172479</td>\n",
       "      <td>32.721952</td>\n",
       "      <td>False</td>\n",
       "    </tr>\n",
       "    <tr>\n",
       "      <th>3</th>\n",
       "      <td>Trolley Barn Park</td>\n",
       "      <td>Adams Ave And Florida St San Diego, CA 92116</td>\n",
       "      <td>NaN</td>\n",
       "      <td>PvHxIYrmaiFKdWUDTMDzcg</td>\n",
       "      <td>https://www.yelp.com/biz/trolley-barn-park-san...</td>\n",
       "      <td>4.5</td>\n",
       "      <td>102</td>\n",
       "      <td>-117.143789</td>\n",
       "      <td>32.762463</td>\n",
       "      <td>False</td>\n",
       "    </tr>\n",
       "    <tr>\n",
       "      <th>4</th>\n",
       "      <td>Bay View Park</td>\n",
       "      <td>413 1st St Coronado, CA 92118</td>\n",
       "      <td>NaN</td>\n",
       "      <td>6IF4VB9-fkv_F-LBvG8ppQ</td>\n",
       "      <td>https://www.yelp.com/biz/bay-view-park-coronad...</td>\n",
       "      <td>5.0</td>\n",
       "      <td>42</td>\n",
       "      <td>-117.178967</td>\n",
       "      <td>32.701785</td>\n",
       "      <td>False</td>\n",
       "    </tr>\n",
       "    <tr>\n",
       "      <th>...</th>\n",
       "      <td>...</td>\n",
       "      <td>...</td>\n",
       "      <td>...</td>\n",
       "      <td>...</td>\n",
       "      <td>...</td>\n",
       "      <td>...</td>\n",
       "      <td>...</td>\n",
       "      <td>...</td>\n",
       "      <td>...</td>\n",
       "      <td>...</td>\n",
       "    </tr>\n",
       "    <tr>\n",
       "      <th>828</th>\n",
       "      <td>Del Cerro - San Diego</td>\n",
       "      <td>San Diego, CA 92120</td>\n",
       "      <td>1.619287e+10</td>\n",
       "      <td>ggbc59hSsl6pxCGSN1QLQA</td>\n",
       "      <td>https://www.yelp.com/biz/del-cerro-san-diego-s...</td>\n",
       "      <td>4.5</td>\n",
       "      <td>12</td>\n",
       "      <td>-117.073524</td>\n",
       "      <td>32.792626</td>\n",
       "      <td>False</td>\n",
       "    </tr>\n",
       "    <tr>\n",
       "      <th>829</th>\n",
       "      <td>San Diego Metropolitan Transit System</td>\n",
       "      <td>1255 Imperial Ave Ste 1000 San Diego, CA 92101</td>\n",
       "      <td>1.619238e+10</td>\n",
       "      <td>c8jhIMcwSjWqBD7S-faKYg</td>\n",
       "      <td>https://www.yelp.com/biz/san-diego-metropolita...</td>\n",
       "      <td>2.5</td>\n",
       "      <td>268</td>\n",
       "      <td>-117.153400</td>\n",
       "      <td>32.705760</td>\n",
       "      <td>False</td>\n",
       "    </tr>\n",
       "    <tr>\n",
       "      <th>830</th>\n",
       "      <td>Petco Park</td>\n",
       "      <td>100 Park Blvd San Diego, CA 92101</td>\n",
       "      <td>1.619796e+10</td>\n",
       "      <td>HkgSbRLVMRHExsRkImIK5A</td>\n",
       "      <td>https://www.yelp.com/biz/petco-park-san-diego?...</td>\n",
       "      <td>4.0</td>\n",
       "      <td>1667</td>\n",
       "      <td>-117.157054</td>\n",
       "      <td>32.707246</td>\n",
       "      <td>False</td>\n",
       "    </tr>\n",
       "    <tr>\n",
       "      <th>831</th>\n",
       "      <td>Ann D. L'Heureux Memorial Dog Park</td>\n",
       "      <td>2700 Carlsbad Village Dr Carlsbad, CA 92008</td>\n",
       "      <td>1.760434e+10</td>\n",
       "      <td>wYGJ65iVMi74-3TylWxY0Q</td>\n",
       "      <td>https://www.yelp.com/biz/ann-d-l-heureux-memor...</td>\n",
       "      <td>3.0</td>\n",
       "      <td>50</td>\n",
       "      <td>-117.316419</td>\n",
       "      <td>33.171137</td>\n",
       "      <td>False</td>\n",
       "    </tr>\n",
       "    <tr>\n",
       "      <th>832</th>\n",
       "      <td>Fairbrook Farm</td>\n",
       "      <td>4949 S Mission Rd Fallbrook, CA 92028</td>\n",
       "      <td>1.760729e+10</td>\n",
       "      <td>l3ZIY78OBs6BfkMQifY28g</td>\n",
       "      <td>https://www.yelp.com/biz/fairbrook-farm-fallbr...</td>\n",
       "      <td>5.0</td>\n",
       "      <td>1</td>\n",
       "      <td>-117.227747</td>\n",
       "      <td>33.302164</td>\n",
       "      <td>False</td>\n",
       "    </tr>\n",
       "  </tbody>\n",
       "</table>\n",
       "<p>833 rows × 10 columns</p>\n",
       "</div>"
      ],
      "text/plain": [
       "                                      name  \\\n",
       "0                              Balboa Park   \n",
       "1                              Civita Park   \n",
       "2                          Waterfront Park   \n",
       "3                        Trolley Barn Park   \n",
       "4                            Bay View Park   \n",
       "..                                     ...   \n",
       "828                  Del Cerro - San Diego   \n",
       "829  San Diego Metropolitan Transit System   \n",
       "830                             Petco Park   \n",
       "831     Ann D. L'Heureux Memorial Dog Park   \n",
       "832                         Fairbrook Farm   \n",
       "\n",
       "                                            address         phone  \\\n",
       "0                 1549 El Prado San Diego, CA 92101  1.619239e+10   \n",
       "1              7960 Civita Blvd San Diego, CA 92108           NaN   \n",
       "2              1600 Pacific Hwy San Diego, CA 92101  1.619233e+10   \n",
       "3      Adams Ave And Florida St San Diego, CA 92116           NaN   \n",
       "4                     413 1st St Coronado, CA 92118           NaN   \n",
       "..                                              ...           ...   \n",
       "828                             San Diego, CA 92120  1.619287e+10   \n",
       "829  1255 Imperial Ave Ste 1000 San Diego, CA 92101  1.619238e+10   \n",
       "830               100 Park Blvd San Diego, CA 92101  1.619796e+10   \n",
       "831     2700 Carlsbad Village Dr Carlsbad, CA 92008  1.760434e+10   \n",
       "832           4949 S Mission Rd Fallbrook, CA 92028  1.760729e+10   \n",
       "\n",
       "                         id  \\\n",
       "0    9M_FW_-Ipx93I36w-_ykBg   \n",
       "1    3AEHjqNrTmggA6G9VdhQfg   \n",
       "2    3unbJeYrn1RmInZGmjp80g   \n",
       "3    PvHxIYrmaiFKdWUDTMDzcg   \n",
       "4    6IF4VB9-fkv_F-LBvG8ppQ   \n",
       "..                      ...   \n",
       "828  ggbc59hSsl6pxCGSN1QLQA   \n",
       "829  c8jhIMcwSjWqBD7S-faKYg   \n",
       "830  HkgSbRLVMRHExsRkImIK5A   \n",
       "831  wYGJ65iVMi74-3TylWxY0Q   \n",
       "832  l3ZIY78OBs6BfkMQifY28g   \n",
       "\n",
       "                                                   url  rating  review_count  \\\n",
       "0    https://www.yelp.com/biz/balboa-park-san-diego...     5.0          2105   \n",
       "1    https://www.yelp.com/biz/civita-park-san-diego...     4.5            46   \n",
       "2    https://www.yelp.com/biz/waterfront-park-san-d...     4.5           242   \n",
       "3    https://www.yelp.com/biz/trolley-barn-park-san...     4.5           102   \n",
       "4    https://www.yelp.com/biz/bay-view-park-coronad...     5.0            42   \n",
       "..                                                 ...     ...           ...   \n",
       "828  https://www.yelp.com/biz/del-cerro-san-diego-s...     4.5            12   \n",
       "829  https://www.yelp.com/biz/san-diego-metropolita...     2.5           268   \n",
       "830  https://www.yelp.com/biz/petco-park-san-diego?...     4.0          1667   \n",
       "831  https://www.yelp.com/biz/ann-d-l-heureux-memor...     3.0            50   \n",
       "832  https://www.yelp.com/biz/fairbrook-farm-fallbr...     5.0             1   \n",
       "\n",
       "      longitude   latitude  is_closed  \n",
       "0   -117.153150  32.734502      False  \n",
       "1   -117.147278  32.778315      False  \n",
       "2   -117.172479  32.721952      False  \n",
       "3   -117.143789  32.762463      False  \n",
       "4   -117.178967  32.701785      False  \n",
       "..          ...        ...        ...  \n",
       "828 -117.073524  32.792626      False  \n",
       "829 -117.153400  32.705760      False  \n",
       "830 -117.157054  32.707246      False  \n",
       "831 -117.316419  33.171137      False  \n",
       "832 -117.227747  33.302164      False  \n",
       "\n",
       "[833 rows x 10 columns]"
      ]
     },
     "execution_count": 10,
     "metadata": {},
     "output_type": "execute_result"
    }
   ],
   "source": [
    "## YOUR CODE HERE\n",
    "## import the data we are going to use\n",
    "yelprate = pd.read_csv(\"/home/mzhao/individual_fa20/data/yelp_SD_parks.csv\")\n",
    "## take a look of the dataset\n",
    "yelprate\n"
   ]
  },
  {
   "cell_type": "code",
   "execution_count": 11,
   "metadata": {},
   "outputs": [
    {
     "data": {
      "text/html": [
       "<div>\n",
       "<style scoped>\n",
       "    .dataframe tbody tr th:only-of-type {\n",
       "        vertical-align: middle;\n",
       "    }\n",
       "\n",
       "    .dataframe tbody tr th {\n",
       "        vertical-align: top;\n",
       "    }\n",
       "\n",
       "    .dataframe thead th {\n",
       "        text-align: right;\n",
       "    }\n",
       "</style>\n",
       "<table border=\"1\" class=\"dataframe\">\n",
       "  <thead>\n",
       "    <tr style=\"text-align: right;\">\n",
       "      <th></th>\n",
       "      <th>name</th>\n",
       "      <th>address</th>\n",
       "      <th>url</th>\n",
       "      <th>rating</th>\n",
       "      <th>review_count</th>\n",
       "      <th>longitude</th>\n",
       "      <th>latitude</th>\n",
       "      <th>is_closed</th>\n",
       "    </tr>\n",
       "  </thead>\n",
       "  <tbody>\n",
       "    <tr>\n",
       "      <th>0</th>\n",
       "      <td>Balboa Park</td>\n",
       "      <td>1549 El Prado San Diego, CA 92101</td>\n",
       "      <td>https://www.yelp.com/biz/balboa-park-san-diego...</td>\n",
       "      <td>5.0</td>\n",
       "      <td>2105</td>\n",
       "      <td>-117.153150</td>\n",
       "      <td>32.734502</td>\n",
       "      <td>False</td>\n",
       "    </tr>\n",
       "    <tr>\n",
       "      <th>1</th>\n",
       "      <td>Civita Park</td>\n",
       "      <td>7960 Civita Blvd San Diego, CA 92108</td>\n",
       "      <td>https://www.yelp.com/biz/civita-park-san-diego...</td>\n",
       "      <td>4.5</td>\n",
       "      <td>46</td>\n",
       "      <td>-117.147278</td>\n",
       "      <td>32.778315</td>\n",
       "      <td>False</td>\n",
       "    </tr>\n",
       "    <tr>\n",
       "      <th>2</th>\n",
       "      <td>Waterfront Park</td>\n",
       "      <td>1600 Pacific Hwy San Diego, CA 92101</td>\n",
       "      <td>https://www.yelp.com/biz/waterfront-park-san-d...</td>\n",
       "      <td>4.5</td>\n",
       "      <td>242</td>\n",
       "      <td>-117.172479</td>\n",
       "      <td>32.721952</td>\n",
       "      <td>False</td>\n",
       "    </tr>\n",
       "    <tr>\n",
       "      <th>3</th>\n",
       "      <td>Trolley Barn Park</td>\n",
       "      <td>Adams Ave And Florida St San Diego, CA 92116</td>\n",
       "      <td>https://www.yelp.com/biz/trolley-barn-park-san...</td>\n",
       "      <td>4.5</td>\n",
       "      <td>102</td>\n",
       "      <td>-117.143789</td>\n",
       "      <td>32.762463</td>\n",
       "      <td>False</td>\n",
       "    </tr>\n",
       "    <tr>\n",
       "      <th>4</th>\n",
       "      <td>Bay View Park</td>\n",
       "      <td>413 1st St Coronado, CA 92118</td>\n",
       "      <td>https://www.yelp.com/biz/bay-view-park-coronad...</td>\n",
       "      <td>5.0</td>\n",
       "      <td>42</td>\n",
       "      <td>-117.178967</td>\n",
       "      <td>32.701785</td>\n",
       "      <td>False</td>\n",
       "    </tr>\n",
       "    <tr>\n",
       "      <th>...</th>\n",
       "      <td>...</td>\n",
       "      <td>...</td>\n",
       "      <td>...</td>\n",
       "      <td>...</td>\n",
       "      <td>...</td>\n",
       "      <td>...</td>\n",
       "      <td>...</td>\n",
       "      <td>...</td>\n",
       "    </tr>\n",
       "    <tr>\n",
       "      <th>828</th>\n",
       "      <td>Del Cerro - San Diego</td>\n",
       "      <td>San Diego, CA 92120</td>\n",
       "      <td>https://www.yelp.com/biz/del-cerro-san-diego-s...</td>\n",
       "      <td>4.5</td>\n",
       "      <td>12</td>\n",
       "      <td>-117.073524</td>\n",
       "      <td>32.792626</td>\n",
       "      <td>False</td>\n",
       "    </tr>\n",
       "    <tr>\n",
       "      <th>829</th>\n",
       "      <td>San Diego Metropolitan Transit System</td>\n",
       "      <td>1255 Imperial Ave Ste 1000 San Diego, CA 92101</td>\n",
       "      <td>https://www.yelp.com/biz/san-diego-metropolita...</td>\n",
       "      <td>2.5</td>\n",
       "      <td>268</td>\n",
       "      <td>-117.153400</td>\n",
       "      <td>32.705760</td>\n",
       "      <td>False</td>\n",
       "    </tr>\n",
       "    <tr>\n",
       "      <th>830</th>\n",
       "      <td>Petco Park</td>\n",
       "      <td>100 Park Blvd San Diego, CA 92101</td>\n",
       "      <td>https://www.yelp.com/biz/petco-park-san-diego?...</td>\n",
       "      <td>4.0</td>\n",
       "      <td>1667</td>\n",
       "      <td>-117.157054</td>\n",
       "      <td>32.707246</td>\n",
       "      <td>False</td>\n",
       "    </tr>\n",
       "    <tr>\n",
       "      <th>831</th>\n",
       "      <td>Ann D. L'Heureux Memorial Dog Park</td>\n",
       "      <td>2700 Carlsbad Village Dr Carlsbad, CA 92008</td>\n",
       "      <td>https://www.yelp.com/biz/ann-d-l-heureux-memor...</td>\n",
       "      <td>3.0</td>\n",
       "      <td>50</td>\n",
       "      <td>-117.316419</td>\n",
       "      <td>33.171137</td>\n",
       "      <td>False</td>\n",
       "    </tr>\n",
       "    <tr>\n",
       "      <th>832</th>\n",
       "      <td>Fairbrook Farm</td>\n",
       "      <td>4949 S Mission Rd Fallbrook, CA 92028</td>\n",
       "      <td>https://www.yelp.com/biz/fairbrook-farm-fallbr...</td>\n",
       "      <td>5.0</td>\n",
       "      <td>1</td>\n",
       "      <td>-117.227747</td>\n",
       "      <td>33.302164</td>\n",
       "      <td>False</td>\n",
       "    </tr>\n",
       "  </tbody>\n",
       "</table>\n",
       "<p>833 rows × 8 columns</p>\n",
       "</div>"
      ],
      "text/plain": [
       "                                      name  \\\n",
       "0                              Balboa Park   \n",
       "1                              Civita Park   \n",
       "2                          Waterfront Park   \n",
       "3                        Trolley Barn Park   \n",
       "4                            Bay View Park   \n",
       "..                                     ...   \n",
       "828                  Del Cerro - San Diego   \n",
       "829  San Diego Metropolitan Transit System   \n",
       "830                             Petco Park   \n",
       "831     Ann D. L'Heureux Memorial Dog Park   \n",
       "832                         Fairbrook Farm   \n",
       "\n",
       "                                            address  \\\n",
       "0                 1549 El Prado San Diego, CA 92101   \n",
       "1              7960 Civita Blvd San Diego, CA 92108   \n",
       "2              1600 Pacific Hwy San Diego, CA 92101   \n",
       "3      Adams Ave And Florida St San Diego, CA 92116   \n",
       "4                     413 1st St Coronado, CA 92118   \n",
       "..                                              ...   \n",
       "828                             San Diego, CA 92120   \n",
       "829  1255 Imperial Ave Ste 1000 San Diego, CA 92101   \n",
       "830               100 Park Blvd San Diego, CA 92101   \n",
       "831     2700 Carlsbad Village Dr Carlsbad, CA 92008   \n",
       "832           4949 S Mission Rd Fallbrook, CA 92028   \n",
       "\n",
       "                                                   url  rating  review_count  \\\n",
       "0    https://www.yelp.com/biz/balboa-park-san-diego...     5.0          2105   \n",
       "1    https://www.yelp.com/biz/civita-park-san-diego...     4.5            46   \n",
       "2    https://www.yelp.com/biz/waterfront-park-san-d...     4.5           242   \n",
       "3    https://www.yelp.com/biz/trolley-barn-park-san...     4.5           102   \n",
       "4    https://www.yelp.com/biz/bay-view-park-coronad...     5.0            42   \n",
       "..                                                 ...     ...           ...   \n",
       "828  https://www.yelp.com/biz/del-cerro-san-diego-s...     4.5            12   \n",
       "829  https://www.yelp.com/biz/san-diego-metropolita...     2.5           268   \n",
       "830  https://www.yelp.com/biz/petco-park-san-diego?...     4.0          1667   \n",
       "831  https://www.yelp.com/biz/ann-d-l-heureux-memor...     3.0            50   \n",
       "832  https://www.yelp.com/biz/fairbrook-farm-fallbr...     5.0             1   \n",
       "\n",
       "      longitude   latitude  is_closed  \n",
       "0   -117.153150  32.734502      False  \n",
       "1   -117.147278  32.778315      False  \n",
       "2   -117.172479  32.721952      False  \n",
       "3   -117.143789  32.762463      False  \n",
       "4   -117.178967  32.701785      False  \n",
       "..          ...        ...        ...  \n",
       "828 -117.073524  32.792626      False  \n",
       "829 -117.153400  32.705760      False  \n",
       "830 -117.157054  32.707246      False  \n",
       "831 -117.316419  33.171137      False  \n",
       "832 -117.227747  33.302164      False  \n",
       "\n",
       "[833 rows x 8 columns]"
      ]
     },
     "execution_count": 11,
     "metadata": {},
     "output_type": "execute_result"
    }
   ],
   "source": [
    "## I am going to cut the columns that are not helpful to me.\n",
    "yelprate= yelprate.drop(columns = ['phone','id'])\n",
    "yelprate"
   ]
  },
  {
   "cell_type": "markdown",
   "metadata": {},
   "source": [
    "# Data Analysis & Results"
   ]
  },
  {
   "cell_type": "code",
   "execution_count": 12,
   "metadata": {},
   "outputs": [
    {
     "data": {
      "text/plain": [
       "<matplotlib.axes._subplots.AxesSubplot at 0x7f3084208dd0>"
      ]
     },
     "execution_count": 12,
     "metadata": {},
     "output_type": "execute_result"
    },
    {
     "data": {
      "image/png": "[encoded data removed]",
      "text/plain": [
       "<Figure size 432x288 with 1 Axes>"
      ]
     },
     "metadata": {
      "needs_background": "light"
     },
     "output_type": "display_data"
    }
   ],
   "source": [
    "## take a look of the distribution of location of the park\n",
    "\n",
    "sns.distplot(yelprate['latitude'])\n"
   ]
  },
  {
   "cell_type": "markdown",
   "metadata": {},
   "source": [
    "We can see that most of the parks gather around at the latitude from 32.7 to 32.8 which exactly correspond to the area of downtown ,which has latitude between 32.7 to 32.73, and area around downtown."
   ]
  },
  {
   "cell_type": "code",
   "execution_count": 13,
   "metadata": {},
   "outputs": [
    {
     "data": {
      "text/plain": [
       "<matplotlib.axes._subplots.AxesSubplot at 0x7f30dc27e410>"
      ]
     },
     "execution_count": 13,
     "metadata": {},
     "output_type": "execute_result"
    },
    {
     "data": {
      "image/png": "[encoded data removed]",
      "text/plain": [
       "<Figure size 432x288 with 1 Axes>"
      ]
     },
     "metadata": {
      "needs_background": "light"
     },
     "output_type": "display_data"
    }
   ],
   "source": [
    "## let's take a look at the relationship between latitude and revoew count.\n",
    "sns.scatterplot(y = yelprate['review_count'],x=yelprate['latitude'])"
   ]
  },
  {
   "cell_type": "markdown",
   "metadata": {},
   "source": [
    "Surprisingly I found that hte scatter plot between the latitude and review_count correspond to the shape of the distribution of the parks based on latitude. I think this finding further support my hypothesis since the reason why two plots have similar shape is that there are more parks built at the place with more people which can lead to more review counts."
   ]
  },
  {
   "cell_type": "markdown",
   "metadata": {},
   "source": [
    "Include cells that describe the steps in your data analysis."
   ]
  },
  {
   "cell_type": "code",
   "execution_count": 14,
   "metadata": {},
   "outputs": [
    {
     "data": {
      "text/plain": [
       "<matplotlib.axes._subplots.AxesSubplot at 0x7f30e1badf90>"
      ]
     },
     "execution_count": 14,
     "metadata": {},
     "output_type": "execute_result"
    },
    {
     "data": {
      "image/png": "[encoded data removed]",
      "text/plain": [
       "<Figure size 432x288 with 1 Axes>"
      ]
     },
     "metadata": {
      "needs_background": "light"
     },
     "output_type": "display_data"
    }
   ],
   "source": [
    "## take a look of the distribution of location of the park\n",
    "sns.distplot(yelprate['longitude'])"
   ]
  },
  {
   "cell_type": "markdown",
   "metadata": {},
   "source": [
    "The longtitude of the dowtown area is between -117.14 to -117.17, this perfectlt matches the peak of the distribution plot above. Since both the latitude and longtitude distribution plot correspond to the latitude and longtitude of downtown area respectively, I could say that parks tend to gather around the downtown area."
   ]
  },
  {
   "cell_type": "code",
   "execution_count": 15,
   "metadata": {},
   "outputs": [
    {
     "data": {
      "text/plain": [
       "<matplotlib.axes._subplots.AxesSubplot at 0x7f30e113a350>"
      ]
     },
     "execution_count": 15,
     "metadata": {},
     "output_type": "execute_result"
    },
    {
     "data": {
      "image/png": "[encoded data removed]",
      "text/plain": [
       "<Figure size 432x288 with 1 Axes>"
      ]
     },
     "metadata": {
      "needs_background": "light"
     },
     "output_type": "display_data"
    }
   ],
   "source": [
    "## let's take a look whether there is a relationship between the longitude and rating\n",
    "sns.scatterplot(y = yelprate['review_count'],x=yelprate['longitude'])"
   ]
  },
  {
   "cell_type": "markdown",
   "metadata": {},
   "source": [
    "Let's check whether the scatter plot between longtitude and review count correspond to the distribution plot above just in case the interesting correspondence relation between the scatter plot of review count and distribution plot based on the latitude is a coincidence. It turns out that the corespondence between the shapes of two plots based on longtitude still exists. "
   ]
  },
  {
   "cell_type": "markdown",
   "metadata": {},
   "source": [
    "# Ethics & Privacy"
   ]
  },
  {
   "cell_type": "markdown",
   "metadata": {},
   "source": [
    "*For the privacy part, We should be careful about the information of the people who give the review on Yelp. The conclusion my analysis finds out may disclose the living area of the people who give the review since people might tend to go to the parks near their home. Even though in this dataset there is no information related to the people who give the review, we still need to keep that in mind in the similar analysis in the future.<br><br>\n",
    "For the ethics part, the dataset I used is just for the parks in San Diego.In another word, the conclusion I got is all based on the data from one city. However, the conclusion I got may not be true when someone trying to apply it on other cities in the US so it might cause some bias when people want to apply the conclusion on other cities. One way to reduce this possible bias is finding out the real situation of a city and decide whether my analysis also makes sense before using conclusion I got from dataset of park in San Diego.*"
   ]
  },
  {
   "cell_type": "markdown",
   "metadata": {},
   "source": [
    "# Conclusion & Discussion"
   ]
  },
  {
   "cell_type": "markdown",
   "metadata": {},
   "source": [
    "Based on my analysis, I can conclude that the population of a certain area do have influence on the distribution of the parks and my hypothesis that there are more parks around downtown area is correct.<br><br>\n",
    "My analysis first use the distribution plot to find out the latitude and longtitude of the area that have more parks and check whether this area correspond to the downtown area of San Diego by comparing the latitude and longtitude. It turns out that these two areas are highly overlapped so we can then infer that parks tend to be built at the places have more people (we proved in the background and prior work that downtown area has higher population density). I also found that the shape of the scatter plots between latitude(longtitude) and review count have similar shape as the distribution plots based on latitude(longtitude). This finding can further prove my hypothesis since the the existence of the similarity shows that more people visited and leave reviews for the parks at the area which has more park. The reason why more people visited these parks is because the population density there is higher. So we can say that population density generally reflect the locations of parks in a city(at least in San Diego).<br><br>\n",
    "\n",
    "I think my finding is very helpful for the government when they are trying to make the city planning. Based on the population density, they can accurately build more parks at the area with higher population density to satisfy more people's needs.\n",
    "<br><br>\n",
    "One limitations I met during the project is that I wonder whether the conclusion I got from San Diego is also true in other cities in the US. I think I will repeat this analysis in more cities in the US to avoid this is just a coincidence in the future."
   ]
  },
  {
   "cell_type": "code",
   "execution_count": null,
   "metadata": {},
   "outputs": [],
   "source": []
  }
 ],
 "metadata": {
  "kernelspec": {
   "display_name": "Python 3",
   "language": "python",
   "name": "python3"
  },
  "language_info": {
   "codemirror_mode": {
    "name": "ipython",
    "version": 3
   },
   "file_extension": ".py",
   "mimetype": "text/x-python",
   "name": "python",
   "nbconvert_exporter": "python",
   "pygments_lexer": "ipython3",
   "version": "3.7.6"
  }
 },
 "nbformat": 4,
 "nbformat_minor": 2
}
